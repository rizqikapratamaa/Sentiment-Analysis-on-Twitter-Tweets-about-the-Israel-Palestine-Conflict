{
  "cells": [
    {
      "cell_type": "code",
      "execution_count": 19,
      "metadata": {
        "id": "bEnP5DQsOfQa"
      },
      "outputs": [],
      "source": [
        "import pandas as pd\n",
        "from ntscraper import Nitter"
      ]
    },
    {
      "cell_type": "code",
      "execution_count": null,
      "metadata": {
        "id": "xi2z7Nj5Py47"
      },
      "outputs": [],
      "source": [
        "scraper = Nitter()"
      ]
    },
    {
      "cell_type": "code",
      "execution_count": 44,
      "metadata": {
        "id": "bZAs7hp9TxZx"
      },
      "outputs": [],
      "source": [
        "# Importing necessary libraries\n",
        "import pandas as pd\n",
        "from ntscraper import Nitter\n",
        "\n",
        "# Initializing Nitter scraper\n",
        "scraper = Nitter()\n",
        "\n",
        "def get_tweets(query, number_of_tweets, languages):\n",
        "    # Getting tweets using the Nitter scraper\n",
        "    tweets = scraper.get_tweets(query, number=number_of_tweets, language=languages)\n",
        "    \n",
        "    # Extracting relevant information from the tweets\n",
        "    final_tweets = []\n",
        "    for tweet in tweets['tweets']:\n",
        "        data = [tweet['user']['username'], tweet['text'], tweet['stats']['likes'], tweet['date']]\n",
        "        final_tweets.append(data)\n",
        "    \n",
        "    # Creating a DataFrame from the extracted data\n",
        "    data = pd.DataFrame(final_tweets, columns=['username', 'text', 'likes', 'date'])\n",
        "    \n",
        "    return data\n",
        "\n",
        "# Getting tweets related to 'hamas' in English and saving to CSV\n",
        "data = get_tweets('hamas', 500, 'en')\n",
        "data.to_csv('hamas.csv')\n"
      ]
    },
    {
      "cell_type": "code",
      "execution_count": null,
      "metadata": {
        "colab": {
          "base_uri": "https://localhost:8080/"
        },
        "id": "zgmL9mhdUldm",
        "outputId": "d69774dc-2dcc-4bc1-a941-db09d5b85e14"
      },
      "outputs": [],
      "source": [
        "data = get_tweets('hamas', 500, 'en')"
      ]
    },
    {
      "cell_type": "code",
      "execution_count": 52,
      "metadata": {
        "id": "4k1Pr5tQXGvM"
      },
      "outputs": [],
      "source": [
        "data.to_csv('hamas.csv')"
      ]
    }
  ],
  "metadata": {
    "colab": {
      "provenance": []
    },
    "kernelspec": {
      "display_name": "Python 3",
      "name": "python3"
    },
    "language_info": {
      "name": "python"
    }
  },
  "nbformat": 4,
  "nbformat_minor": 0
}
